{
  "nbformat": 4,
  "nbformat_minor": 0,
  "metadata": {
    "colab": {
      "provenance": [],
      "authorship_tag": "ABX9TyOHPGG+8olEoaMwozSP0qbR",
      "include_colab_link": true
    },
    "kernelspec": {
      "name": "python3",
      "display_name": "Python 3"
    },
    "language_info": {
      "name": "python"
    }
  },
  "cells": [
    {
      "cell_type": "markdown",
      "metadata": {
        "id": "view-in-github",
        "colab_type": "text"
      },
      "source": [
        "<a href=\"https://colab.research.google.com/github/MohammedYassineBen/TP1_AFC/blob/main/AFC_version2.ipynb\" target=\"_parent\"><img src=\"https://colab.research.google.com/assets/colab-badge.svg\" alt=\"Open In Colab\"/></a>"
      ]
    },
    {
      "cell_type": "markdown",
      "source": [
        "**Installation et l'importation des bibliothèque nécessaires**"
      ],
      "metadata": {
        "id": "cNDvOmuktZhP"
      }
    },
    {
      "cell_type": "code",
      "execution_count": null,
      "metadata": {
        "id": "1v9Mco_ttAAn",
        "colab": {
          "base_uri": "https://localhost:8080/"
        },
        "outputId": "77b4ae57-1b2a-4515-b927-f456fe659dc1"
      },
      "outputs": [
        {
          "output_type": "stream",
          "name": "stdout",
          "text": [
            "Looking in indexes: https://pypi.org/simple, https://us-python.pkg.dev/colab-wheels/public/simple/\n",
            "Collecting prince\n",
            "  Downloading prince-0.10.4-py3-none-any.whl (414 kB)\n",
            "\u001b[2K     \u001b[90m━━━━━━━━━━━━━━━━━━━━━━━━━━━━━━━━━━━━━━\u001b[0m \u001b[32m414.6/414.6 kB\u001b[0m \u001b[31m10.9 MB/s\u001b[0m eta \u001b[36m0:00:00\u001b[0m\n",
            "\u001b[?25hRequirement already satisfied: altair<5.0.0,>=4.2.2 in /usr/local/lib/python3.10/dist-packages (from prince) (4.2.2)\n",
            "Requirement already satisfied: pandas<3.0.0,>=1.4.1 in /usr/local/lib/python3.10/dist-packages (from prince) (1.5.3)\n",
            "Requirement already satisfied: scikit-learn<2.0.0,>=1.0.2 in /usr/local/lib/python3.10/dist-packages (from prince) (1.2.2)\n",
            "Requirement already satisfied: entrypoints in /usr/local/lib/python3.10/dist-packages (from altair<5.0.0,>=4.2.2->prince) (0.4)\n",
            "Requirement already satisfied: jinja2 in /usr/local/lib/python3.10/dist-packages (from altair<5.0.0,>=4.2.2->prince) (3.1.2)\n",
            "Requirement already satisfied: jsonschema>=3.0 in /usr/local/lib/python3.10/dist-packages (from altair<5.0.0,>=4.2.2->prince) (4.3.3)\n",
            "Requirement already satisfied: numpy in /usr/local/lib/python3.10/dist-packages (from altair<5.0.0,>=4.2.2->prince) (1.22.4)\n",
            "Requirement already satisfied: toolz in /usr/local/lib/python3.10/dist-packages (from altair<5.0.0,>=4.2.2->prince) (0.12.0)\n",
            "Requirement already satisfied: python-dateutil>=2.8.1 in /usr/local/lib/python3.10/dist-packages (from pandas<3.0.0,>=1.4.1->prince) (2.8.2)\n",
            "Requirement already satisfied: pytz>=2020.1 in /usr/local/lib/python3.10/dist-packages (from pandas<3.0.0,>=1.4.1->prince) (2022.7.1)\n",
            "Requirement already satisfied: scipy>=1.3.2 in /usr/local/lib/python3.10/dist-packages (from scikit-learn<2.0.0,>=1.0.2->prince) (1.10.1)\n",
            "Requirement already satisfied: joblib>=1.1.1 in /usr/local/lib/python3.10/dist-packages (from scikit-learn<2.0.0,>=1.0.2->prince) (1.2.0)\n",
            "Requirement already satisfied: threadpoolctl>=2.0.0 in /usr/local/lib/python3.10/dist-packages (from scikit-learn<2.0.0,>=1.0.2->prince) (3.1.0)\n",
            "Requirement already satisfied: attrs>=17.4.0 in /usr/local/lib/python3.10/dist-packages (from jsonschema>=3.0->altair<5.0.0,>=4.2.2->prince) (23.1.0)\n",
            "Requirement already satisfied: pyrsistent!=0.17.0,!=0.17.1,!=0.17.2,>=0.14.0 in /usr/local/lib/python3.10/dist-packages (from jsonschema>=3.0->altair<5.0.0,>=4.2.2->prince) (0.19.3)\n",
            "Requirement already satisfied: six>=1.5 in /usr/local/lib/python3.10/dist-packages (from python-dateutil>=2.8.1->pandas<3.0.0,>=1.4.1->prince) (1.16.0)\n",
            "Requirement already satisfied: MarkupSafe>=2.0 in /usr/local/lib/python3.10/dist-packages (from jinja2->altair<5.0.0,>=4.2.2->prince) (2.1.2)\n",
            "Installing collected packages: prince\n",
            "Successfully installed prince-0.10.4\n"
          ]
        }
      ],
      "source": [
        "!pip install prince\n",
        "import pandas as pd\n",
        "import prince\n",
        "import numpy as \n"
      ]
    },
    {
      "cell_type": "markdown",
      "source": [
        "**Définition des données sous forme de tableau de contingence**"
      ],
      "metadata": {
        "id": "Jy2XphRXtV8n"
      }
    },
    {
      "cell_type": "code",
      "source": [
        "data = {'Chatains': [119, 26, 7, 84], 'Roux': [54, 14, 10, 17], 'Blonds': [29, 14, 16, 94]}\n",
        "df = pd.DataFrame(data, index=['Marron', 'Noisette', 'Verts', 'Bleus'])"
      ],
      "metadata": {
        "id": "-J7bVRctuBZi"
      },
      "execution_count": null,
      "outputs": []
    },
    {
      "cell_type": "code",
      "source": [
        "print(data)\n",
        "df"
      ],
      "metadata": {
        "id": "DhQt30VZvRlK",
        "outputId": "0e8e1ef0-c61a-4da2-d85e-6149522a15c4",
        "colab": {
          "base_uri": "https://localhost:8080/",
          "height": 192
        }
      },
      "execution_count": null,
      "outputs": [
        {
          "output_type": "stream",
          "name": "stdout",
          "text": [
            "{'Chatains': [119, 26, 7, 84], 'Roux': [54, 14, 10, 17], 'Blonds': [29, 14, 16, 94]}\n"
          ]
        },
        {
          "output_type": "execute_result",
          "data": {
            "text/plain": [
              "          Chatains  Roux  Blonds\n",
              "Marron         119    54      29\n",
              "Noisette        26    14      14\n",
              "Verts            7    10      16\n",
              "Bleus           84    17      94"
            ],
            "text/html": [
              "\n",
              "  <div id=\"df-3af7f3bd-b79a-4ee6-b324-42ed2688de01\">\n",
              "    <div class=\"colab-df-container\">\n",
              "      <div>\n",
              "<style scoped>\n",
              "    .dataframe tbody tr th:only-of-type {\n",
              "        vertical-align: middle;\n",
              "    }\n",
              "\n",
              "    .dataframe tbody tr th {\n",
              "        vertical-align: top;\n",
              "    }\n",
              "\n",
              "    .dataframe thead th {\n",
              "        text-align: right;\n",
              "    }\n",
              "</style>\n",
              "<table border=\"1\" class=\"dataframe\">\n",
              "  <thead>\n",
              "    <tr style=\"text-align: right;\">\n",
              "      <th></th>\n",
              "      <th>Chatains</th>\n",
              "      <th>Roux</th>\n",
              "      <th>Blonds</th>\n",
              "    </tr>\n",
              "  </thead>\n",
              "  <tbody>\n",
              "    <tr>\n",
              "      <th>Marron</th>\n",
              "      <td>119</td>\n",
              "      <td>54</td>\n",
              "      <td>29</td>\n",
              "    </tr>\n",
              "    <tr>\n",
              "      <th>Noisette</th>\n",
              "      <td>26</td>\n",
              "      <td>14</td>\n",
              "      <td>14</td>\n",
              "    </tr>\n",
              "    <tr>\n",
              "      <th>Verts</th>\n",
              "      <td>7</td>\n",
              "      <td>10</td>\n",
              "      <td>16</td>\n",
              "    </tr>\n",
              "    <tr>\n",
              "      <th>Bleus</th>\n",
              "      <td>84</td>\n",
              "      <td>17</td>\n",
              "      <td>94</td>\n",
              "    </tr>\n",
              "  </tbody>\n",
              "</table>\n",
              "</div>\n",
              "      <button class=\"colab-df-convert\" onclick=\"convertToInteractive('df-3af7f3bd-b79a-4ee6-b324-42ed2688de01')\"\n",
              "              title=\"Convert this dataframe to an interactive table.\"\n",
              "              style=\"display:none;\">\n",
              "        \n",
              "  <svg xmlns=\"http://www.w3.org/2000/svg\" height=\"24px\"viewBox=\"0 0 24 24\"\n",
              "       width=\"24px\">\n",
              "    <path d=\"M0 0h24v24H0V0z\" fill=\"none\"/>\n",
              "    <path d=\"M18.56 5.44l.94 2.06.94-2.06 2.06-.94-2.06-.94-.94-2.06-.94 2.06-2.06.94zm-11 1L8.5 8.5l.94-2.06 2.06-.94-2.06-.94L8.5 2.5l-.94 2.06-2.06.94zm10 10l.94 2.06.94-2.06 2.06-.94-2.06-.94-.94-2.06-.94 2.06-2.06.94z\"/><path d=\"M17.41 7.96l-1.37-1.37c-.4-.4-.92-.59-1.43-.59-.52 0-1.04.2-1.43.59L10.3 9.45l-7.72 7.72c-.78.78-.78 2.05 0 2.83L4 21.41c.39.39.9.59 1.41.59.51 0 1.02-.2 1.41-.59l7.78-7.78 2.81-2.81c.8-.78.8-2.07 0-2.86zM5.41 20L4 18.59l7.72-7.72 1.47 1.35L5.41 20z\"/>\n",
              "  </svg>\n",
              "      </button>\n",
              "      \n",
              "  <style>\n",
              "    .colab-df-container {\n",
              "      display:flex;\n",
              "      flex-wrap:wrap;\n",
              "      gap: 12px;\n",
              "    }\n",
              "\n",
              "    .colab-df-convert {\n",
              "      background-color: #E8F0FE;\n",
              "      border: none;\n",
              "      border-radius: 50%;\n",
              "      cursor: pointer;\n",
              "      display: none;\n",
              "      fill: #1967D2;\n",
              "      height: 32px;\n",
              "      padding: 0 0 0 0;\n",
              "      width: 32px;\n",
              "    }\n",
              "\n",
              "    .colab-df-convert:hover {\n",
              "      background-color: #E2EBFA;\n",
              "      box-shadow: 0px 1px 2px rgba(60, 64, 67, 0.3), 0px 1px 3px 1px rgba(60, 64, 67, 0.15);\n",
              "      fill: #174EA6;\n",
              "    }\n",
              "\n",
              "    [theme=dark] .colab-df-convert {\n",
              "      background-color: #3B4455;\n",
              "      fill: #D2E3FC;\n",
              "    }\n",
              "\n",
              "    [theme=dark] .colab-df-convert:hover {\n",
              "      background-color: #434B5C;\n",
              "      box-shadow: 0px 1px 3px 1px rgba(0, 0, 0, 0.15);\n",
              "      filter: drop-shadow(0px 1px 2px rgba(0, 0, 0, 0.3));\n",
              "      fill: #FFFFFF;\n",
              "    }\n",
              "  </style>\n",
              "\n",
              "      <script>\n",
              "        const buttonEl =\n",
              "          document.querySelector('#df-3af7f3bd-b79a-4ee6-b324-42ed2688de01 button.colab-df-convert');\n",
              "        buttonEl.style.display =\n",
              "          google.colab.kernel.accessAllowed ? 'block' : 'none';\n",
              "\n",
              "        async function convertToInteractive(key) {\n",
              "          const element = document.querySelector('#df-3af7f3bd-b79a-4ee6-b324-42ed2688de01');\n",
              "          const dataTable =\n",
              "            await google.colab.kernel.invokeFunction('convertToInteractive',\n",
              "                                                     [key], {});\n",
              "          if (!dataTable) return;\n",
              "\n",
              "          const docLinkHtml = 'Like what you see? Visit the ' +\n",
              "            '<a target=\"_blank\" href=https://colab.research.google.com/notebooks/data_table.ipynb>data table notebook</a>'\n",
              "            + ' to learn more about interactive tables.';\n",
              "          element.innerHTML = '';\n",
              "          dataTable['output_type'] = 'display_data';\n",
              "          await google.colab.output.renderOutput(dataTable, element);\n",
              "          const docLink = document.createElement('div');\n",
              "          docLink.innerHTML = docLinkHtml;\n",
              "          element.appendChild(docLink);\n",
              "        }\n",
              "      </script>\n",
              "    </div>\n",
              "  </div>\n",
              "  "
            ]
          },
          "metadata": {},
          "execution_count": 5
        }
      ]
    },
    {
      "cell_type": "markdown",
      "source": [
        "**Calculons la matrice des probabilités**"
      ],
      "metadata": {
        "id": "akBW3tpIuexb"
      }
    },
    {
      "cell_type": "code",
      "source": [
        "#proba = df.normalize(axis=1)\n",
        "proba = df/np.sqrt(np.sum(df**2))\n",
        "  \n",
        "# normalized data using sum of squares\n",
        "\n",
        "print(proba)"
      ],
      "metadata": {
        "colab": {
          "base_uri": "https://localhost:8080/"
        },
        "id": "kevHOFjiuZlN",
        "outputId": "3f6da59f-51a7-4767-b913-7ddb99be83bc"
      },
      "execution_count": null,
      "outputs": [
        {
          "output_type": "stream",
          "name": "stdout",
          "text": [
            "          Chatains      Roux    Blonds\n",
            "Marron    0.803358  0.912636  0.288147\n",
            "Noisette  0.175523  0.236609  0.139106\n",
            "Verts     0.047256  0.169007  0.158978\n",
            "Bleus     0.567076  0.287311  0.933995\n"
          ]
        }
      ]
    },
    {
      "cell_type": "markdown",
      "source": [
        "**Calculons les probabilités marginales**"
      ],
      "metadata": {
        "id": "30X-TKlXR6RN"
      }
    },
    {
      "cell_type": "code",
      "source": [
        "\n",
        "pm_row = proba.sum(axis=1)\n",
        "pm_col = proba.sum(axis=0)"
      ],
      "metadata": {
        "id": "dPeVQwt6xkOj"
      },
      "execution_count": null,
      "outputs": []
    },
    {
      "cell_type": "markdown",
      "source": [
        "**La création des matrices diagonales**"
      ],
      "metadata": {
        "id": "Sj47xZosSGXi"
      }
    },
    {
      "cell_type": "code",
      "source": [
        "\n",
        "Di = np.diag(pm_row)\n",
        "Dj = np.diag(pm_col)\n"
      ],
      "metadata": {
        "id": "RHuF7uXw1Do8"
      },
      "execution_count": null,
      "outputs": []
    },
    {
      "cell_type": "markdown",
      "source": [
        "**Calculons les matrices des profils lignes et colonnes**"
      ],
      "metadata": {
        "id": "MKjw6SR5SVH6"
      }
    },
    {
      "cell_type": "code",
      "source": [
        "\n",
        "Lm = np.dot(proba.T, np.linalg.inv(Di))\n",
        "Cm = np.dot(np.linalg.inv(Dj), proba.T)\n",
        "\n",
        "print(\"Matrice des profils lignes Lm:\")\n",
        "print(Lm)\n",
        "print(\"Matrice des profils colonnes Cm:\")\n",
        "print(Cm)"
      ],
      "metadata": {
        "colab": {
          "base_uri": "https://localhost:8080/"
        },
        "id": "eZzNwH1EGaiz",
        "outputId": "dd1304b3-10dd-4492-de79-0bc86b327213"
      },
      "execution_count": null,
      "outputs": [
        {
          "output_type": "stream",
          "name": "stdout",
          "text": [
            "Matrice des profils lignes Lm:\n",
            "[[0.40084877 0.31841659 0.12593596 0.31708873]\n",
            " [0.45537523 0.42923232 0.45039521 0.16065435]\n",
            " [0.143776   0.25235109 0.42366883 0.52225691]]\n",
            "Matrice des profils colonnes Cm:\n",
            "[[0.50423729 0.11016949 0.02966102 0.3559322 ]\n",
            " [0.56842105 0.14736842 0.10526316 0.17894737]\n",
            " [0.18954248 0.09150327 0.10457516 0.61437908]]\n"
          ]
        }
      ]
    },
    {
      "cell_type": "markdown",
      "source": [],
      "metadata": {
        "id": "uMoMDC3hjDNo"
      }
    },
    {
      "cell_type": "markdown",
      "source": [
        "\n",
        "**Calculons la décomposition en valeurs singulières**"
      ],
      "metadata": {
        "id": "o43zbt7sSeU_"
      }
    },
    {
      "cell_type": "code",
      "source": [
        "import numpy as np\n",
        "\n",
        "\n",
        "Lm = np.df\n",
        "U, s, Vt = svd(Lm, full_matrices=False)\n",
        "\n",
        "\n"
      ],
      "metadata": {
        "id": "7w5OKd_9GGKs"
      },
      "execution_count": null,
      "outputs": []
    },
    {
      "cell_type": "markdown",
      "source": [
        "**Calculons les scores des lignes et des colonnes**"
      ],
      "metadata": {
        "id": "pzqAYLwbSkX_"
      }
    },
    {
      "cell_type": "code",
      "source": [
        "\n",
        "row_scores = np.dot(U, np.diag(np.sqrt(s)))\n",
        "column_scores = np.dot(Vt.T, np.diag(np.sqrt(s)))\n",
        "\n",
        "print(\"Scores des lignes:\")\n",
        "print(row_scores)\n",
        "print(\"Scores des colonnes:\")\n",
        "print(column_scores)"
      ],
      "metadata": {
        "id": "KXoSaCF2G3Jm"
      },
      "execution_count": null,
      "outputs": []
    },
    {
      "cell_type": "markdown",
      "source": [
        " **Calculons la matrice de corrélation des profils ,les vecteurs propres et les valeurs propres**\n"
      ],
      "metadata": {
        "id": "xRrTQI6BTZQn"
      }
    },
    {
      "cell_type": "code",
      "source": [
        "\n",
        "cor = Lm.T.dot(Cm)\n",
        "from sklearn.decomposition import PCA\n",
        "# Calculer les vecteurs propres et les valeurs propres de la matrice de corrélation\n",
        "pca = PCA()\n",
        "pca.fit(cor)\n",
        "\n",
        "# Afficher les vecteurs propres et les valeurs propres\n",
        "print(\"Vecteurs propres :\\n\", pca.components_)\n",
        "print(\"\\nValeurs propres :\\n\", pca.explained_variance_)"
      ],
      "metadata": {
        "colab": {
          "base_uri": "https://localhost:8080/"
        },
        "id": "4TUYzyHqH7aC",
        "outputId": "4df678f6-f8e0-480c-dc93-14a6936a5a0a"
      },
      "execution_count": null,
      "outputs": [
        {
          "output_type": "stream",
          "name": "stdout",
          "text": [
            "Vecteurs propres :\n",
            " [[-0.67934608 -0.0859425   0.03748528  0.7278033 ]\n",
            " [-0.47216067  0.19839522  0.72858783 -0.45482239]\n",
            " [-0.53332382 -0.36561421 -0.5655912  -0.51185794]\n",
            " [-0.17640554  0.90530629 -0.38452726 -0.03795258]]\n",
            "\n",
            "Valeurs propres :\n",
            " [7.85176291e-03 1.23319883e-04 1.67101794e-33 2.15777404e-34]\n"
          ]
        }
      ]
    },
    {
      "cell_type": "markdown",
      "source": [
        "**Calculons les composantes principales pour les profils lignes**"
      ],
      "metadata": {
        "id": "6adlL-pGT2Ns"
      }
    },
    {
      "cell_type": "code",
      "source": [
        "\n",
        "cp_lignes = pca.fit_transform(Lm)\n",
        "\n",
        "# On affiche les composantes principales\n",
        "print(\"Composantes principales pour les profils lignes :\\n\", cp_lignes)\n"
      ],
      "metadata": {
        "colab": {
          "base_uri": "https://localhost:8080/"
        },
        "id": "RqAkbGJtIe6C",
        "outputId": "34e8b08a-97da-4310-deeb-6f35107ecdbd"
      },
      "execution_count": null,
      "outputs": [
        {
          "output_type": "stream",
          "name": "stdout",
          "text": [
            "Composantes principales pour les profils lignes :\n",
            " [[ 0.20170141  0.1176372  -0.0679078 ]\n",
            " [ 0.01201414 -0.01267405 -0.0305501 ]\n",
            " [-0.0978194  -0.02505394 -0.09078573]\n",
            " [ 0.15561523 -0.12695156  0.04122127]\n",
            " [-0.13943947 -0.11260608 -0.06676729]\n",
            " [-0.02761714 -0.06892686  0.15480278]\n",
            " [-0.10445478  0.22857529  0.05998688]]\n"
          ]
        }
      ]
    },
    {
      "cell_type": "code",
      "source": [
        "# Calculer les composantes principales pour les profils colonnes\n",
        "cp_colonnes = pca.fit_transform(Cm)\n",
        "\n",
        "# Afficher les composantes principales\n",
        "print(\"Composantes principales pour les profils colonnes :\\n\", cp_colonnes)\n"
      ],
      "metadata": {
        "colab": {
          "base_uri": "https://localhost:8080/"
        },
        "id": "T1iXS0BGIjQy",
        "outputId": "a9cc7bcf-cc81-4b17-8d4c-cacbbca693a6"
      },
      "execution_count": null,
      "outputs": [
        {
          "output_type": "stream",
          "name": "stdout",
          "text": [
            "Composantes principales pour les profils colonnes :\n",
            " [[-2.24591546e-01 -7.22078693e-02  6.95661001e-17]\n",
            " [-1.25474114e-01 -8.35205555e-05 -6.49258048e-17]\n",
            " [ 1.04650700e-01  1.05465974e-01 -1.42319543e-17]\n",
            " [-4.65518461e-01 -3.66543364e-03 -6.46155418e-17]\n",
            " [ 2.41045506e-01  3.54778743e-01 -2.12877270e-17]\n",
            " [-3.20450981e-02 -1.46818353e-01 -3.87292064e-17]\n",
            " [ 5.01933012e-01 -2.37469541e-01 -3.43126739e-17]]\n"
          ]
        }
      ]
    },
    {
      "cell_type": "code",
      "source": [
        "# Projeter le nuage des profils lignes sur le plan factoriel\n",
        "ax1 = pca.plot_row_coordinates(Lm, ax=None, figsize=(10, 10), color_labels=data.index)\n",
        "\n",
        "# Projeter le nuage des profils colonnes sur le plan factoriel\n",
        "ax2 = pca.plot_column_coordinates(Cm, ax=None, figsize=(10, 10), color_labels=data.columns)\n",
        "\n",
        "# Afficher les graphiques\n",
        "ax1.get_figure().show()\n",
        "ax2.get_figure().show()\n"
      ],
      "metadata": {
        "id": "SSaPhufnI7Pe"
      },
      "execution_count": null,
      "outputs": []
    },
    {
      "cell_type": "code",
      "source": [
        "# Projeter le nuage des profils lignes sur le plan factoriel avec étiquettes de couleur et noms\n",
        "ax1 = afc.plot_row_coordinates(proba, ax=None, figsize=(10, 10), color_labels=data.index, row_labels=data.index, show_row_labels=True)\n",
        "\n",
        "# Projeter le nuage des profils colonnes sur le plan factoriel avec étiquettes de couleur et noms\n",
        "ax2 = afc.plot_column_coordinates(proba, ax=None, figsize=(10, 10), color_labels=data.columns, col_labels=data.columns, show_col_labels=True)\n"
      ],
      "metadata": {
        "id": "lX8GkSglJUkg"
      },
      "execution_count": null,
      "outputs": []
    },
    {
      "cell_type": "code",
      "source": [
        "\n",
        "\n",
        "# Créer l'objet d'analyse factorielle des correspondances\n",
        "afc = prince.FAMD(n_components=2)\n",
        "\n",
        "# Effectuer l'analyse factorielle des correspondances\n",
        "afc.fit(proba)\n",
        "\n",
        "# Projeter le nuage des profils lignes sur le plan factoriel avec étiquettes de couleur et noms\n",
        "ax1 = afc.plot_row_coordinates(proba, ax=None, figsize=(10, 10), color_labels=data.index, row_labels=data.index, show_row_points=True)\n",
        "\n",
        "# Projeter le nuage des profils colonnes sur le plan factoriel avec étiquettes de couleur et noms\n",
        "ax2 = afc.plot_column_coordinates(proba, ax=None, figsize=(10, 10), color_labels=data.columns, col_labels=data.columns, show_col_points=True)\n",
        "\n",
        "# Afficher les graphiques\n",
        "ax1.get_figure().show()\n",
        "ax2.get_figure().show()"
      ],
      "metadata": {
        "id": "cYiOtQuhMIiv"
      },
      "execution_count": null,
      "outputs": []
    },
    {
      "cell_type": "code",
      "source": [
        "import pandas as pd\n",
        "import numpy as np\n",
        "from sklearn.decomposition import PCA\n",
        "import matplotlib.pyplot as plt\n",
        "\n",
        "\n",
        "# Créer l'objet de PCA\n",
        "pca = PCA(n_components=2)\n",
        "\n",
        "# Effectuer l'analyse en composantes principales\n",
        "pca.fit(proba)\n"
      ],
      "metadata": {
        "colab": {
          "base_uri": "https://localhost:8080/",
          "height": 75
        },
        "id": "5JHQS4_MPtPz",
        "outputId": "1e5b372b-044d-4a3b-be12-053513d614c5"
      },
      "execution_count": null,
      "outputs": [
        {
          "output_type": "execute_result",
          "data": {
            "text/plain": [
              "PCA(n_components=2)"
            ],
            "text/html": [
              "<style>#sk-container-id-4 {color: black;background-color: white;}#sk-container-id-4 pre{padding: 0;}#sk-container-id-4 div.sk-toggleable {background-color: white;}#sk-container-id-4 label.sk-toggleable__label {cursor: pointer;display: block;width: 100%;margin-bottom: 0;padding: 0.3em;box-sizing: border-box;text-align: center;}#sk-container-id-4 label.sk-toggleable__label-arrow:before {content: \"▸\";float: left;margin-right: 0.25em;color: #696969;}#sk-container-id-4 label.sk-toggleable__label-arrow:hover:before {color: black;}#sk-container-id-4 div.sk-estimator:hover label.sk-toggleable__label-arrow:before {color: black;}#sk-container-id-4 div.sk-toggleable__content {max-height: 0;max-width: 0;overflow: hidden;text-align: left;background-color: #f0f8ff;}#sk-container-id-4 div.sk-toggleable__content pre {margin: 0.2em;color: black;border-radius: 0.25em;background-color: #f0f8ff;}#sk-container-id-4 input.sk-toggleable__control:checked~div.sk-toggleable__content {max-height: 200px;max-width: 100%;overflow: auto;}#sk-container-id-4 input.sk-toggleable__control:checked~label.sk-toggleable__label-arrow:before {content: \"▾\";}#sk-container-id-4 div.sk-estimator input.sk-toggleable__control:checked~label.sk-toggleable__label {background-color: #d4ebff;}#sk-container-id-4 div.sk-label input.sk-toggleable__control:checked~label.sk-toggleable__label {background-color: #d4ebff;}#sk-container-id-4 input.sk-hidden--visually {border: 0;clip: rect(1px 1px 1px 1px);clip: rect(1px, 1px, 1px, 1px);height: 1px;margin: -1px;overflow: hidden;padding: 0;position: absolute;width: 1px;}#sk-container-id-4 div.sk-estimator {font-family: monospace;background-color: #f0f8ff;border: 1px dotted black;border-radius: 0.25em;box-sizing: border-box;margin-bottom: 0.5em;}#sk-container-id-4 div.sk-estimator:hover {background-color: #d4ebff;}#sk-container-id-4 div.sk-parallel-item::after {content: \"\";width: 100%;border-bottom: 1px solid gray;flex-grow: 1;}#sk-container-id-4 div.sk-label:hover label.sk-toggleable__label {background-color: #d4ebff;}#sk-container-id-4 div.sk-serial::before {content: \"\";position: absolute;border-left: 1px solid gray;box-sizing: border-box;top: 0;bottom: 0;left: 50%;z-index: 0;}#sk-container-id-4 div.sk-serial {display: flex;flex-direction: column;align-items: center;background-color: white;padding-right: 0.2em;padding-left: 0.2em;position: relative;}#sk-container-id-4 div.sk-item {position: relative;z-index: 1;}#sk-container-id-4 div.sk-parallel {display: flex;align-items: stretch;justify-content: center;background-color: white;position: relative;}#sk-container-id-4 div.sk-item::before, #sk-container-id-4 div.sk-parallel-item::before {content: \"\";position: absolute;border-left: 1px solid gray;box-sizing: border-box;top: 0;bottom: 0;left: 50%;z-index: -1;}#sk-container-id-4 div.sk-parallel-item {display: flex;flex-direction: column;z-index: 1;position: relative;background-color: white;}#sk-container-id-4 div.sk-parallel-item:first-child::after {align-self: flex-end;width: 50%;}#sk-container-id-4 div.sk-parallel-item:last-child::after {align-self: flex-start;width: 50%;}#sk-container-id-4 div.sk-parallel-item:only-child::after {width: 0;}#sk-container-id-4 div.sk-dashed-wrapped {border: 1px dashed gray;margin: 0 0.4em 0.5em 0.4em;box-sizing: border-box;padding-bottom: 0.4em;background-color: white;}#sk-container-id-4 div.sk-label label {font-family: monospace;font-weight: bold;display: inline-block;line-height: 1.2em;}#sk-container-id-4 div.sk-label-container {text-align: center;}#sk-container-id-4 div.sk-container {/* jupyter's `normalize.less` sets `[hidden] { display: none; }` but bootstrap.min.css set `[hidden] { display: none !important; }` so we also need the `!important` here to be able to override the default hidden behavior on the sphinx rendered scikit-learn.org. See: https://github.com/scikit-learn/scikit-learn/issues/21755 */display: inline-block !important;position: relative;}#sk-container-id-4 div.sk-text-repr-fallback {display: none;}</style><div id=\"sk-container-id-4\" class=\"sk-top-container\"><div class=\"sk-text-repr-fallback\"><pre>PCA(n_components=2)</pre><b>In a Jupyter environment, please rerun this cell to show the HTML representation or trust the notebook. <br />On GitHub, the HTML representation is unable to render, please try loading this page with nbviewer.org.</b></div><div class=\"sk-container\" hidden><div class=\"sk-item\"><div class=\"sk-estimator sk-toggleable\"><input class=\"sk-toggleable__control sk-hidden--visually\" id=\"sk-estimator-id-4\" type=\"checkbox\" checked><label for=\"sk-estimator-id-4\" class=\"sk-toggleable__label sk-toggleable__label-arrow\">PCA</label><div class=\"sk-toggleable__content\"><pre>PCA(n_components=2)</pre></div></div></div></div></div>"
            ]
          },
          "metadata": {},
          "execution_count": 33
        }
      ]
    },
    {
      "cell_type": "markdown",
      "source": [],
      "metadata": {
        "id": "yGKSNMwHQQOm"
      }
    },
    {
      "cell_type": "code",
      "source": [
        "# Projeter le nuage des profils lignes sur le plan factoriel\n",
        "cp_lignes = pca.transform(proba)\n",
        "plt.scatter(cp_lignes[:, 0], cp_lignes[:, 1], c='red', label=\"Profils Lignes\")\n",
        "\n",
        "# Projeter le nuage des profils colonnes sur le plan factoriel\n",
        "cp_colonnes = pca.components_.T\n",
        "plt.scatter(cp_colonnes[:, 0], cp_colonnes[:, 1], c='blue', label=\"Profils Colonnes\")\n",
        "# Ajouter les étiquettes de couleur et les noms\n",
        "for i, label in enumerate(data.index):\n",
        "    plt.annotate(label, (cp_lignes[i, 0], cp_lignes[i, 1]), color='red')\n",
        "\n",
        "for i, label in enumerate(data.columns):\n",
        "    plt.annotate(label, (cp_colonnes[i, 0], cp_colonnes[i, 1]), color='blue')\n",
        "\n",
        "# Afficher les graphiques\n",
        "plt.xlabel(\"Première Composante Principale\")\n",
        "plt.ylabel(\"Deuxième Composante Principale\")\n",
        "plt.legend()\n",
        "plt.show()\n",
        "\n"
      ],
      "metadata": {
        "colab": {
          "base_uri": "https://localhost:8080/",
          "height": 450
        },
        "id": "F8G-FdGbNiOz",
        "outputId": "fba60d2b-2c37-4b42-e201-3859bdc8619d"
      },
      "execution_count": null,
      "outputs": [
        {
          "output_type": "display_data",
          "data": {
            "text/plain": [
              "<Figure size 640x480 with 1 Axes>"
            ],
            "image/png": "[encoded data removed]"
          },
          "metadata": {}
        }
      ]
    },
    {
      "cell_type": "markdown",
      "source": [
        " **Interprétation:**\n",
        "Sur le graphique des profils lignes, chaque point représente un groupe de personnes ayant des caractéristiques de cheveux similaires (châtains, roux, blonds, etc.). Les groupes sont différenciés par des couleurs et des noms, qui correspondent aux étiquettes données à l'ensemble de données. Les profils lignes qui sont proches les uns des autres sur le graphique ont des caractéristiques de cheveux similaires, tandis que les profils qui sont éloignés les uns des autres ont des caractéristiques de cheveux différentes.\n",
        "\n",
        "Sur le graphique des profils colonnes, chaque point représente une caractéristique de cheveux (couleur des cheveux et couleur des yeux). Les caractéristiques de cheveux sont différenciées par des couleurs et des noms, qui correspondent aux étiquettes données à l'ensemble de données. Les profils colonnes qui sont proches les uns des autres sur le graphique sont fortement associés les uns aux autres, tandis que les profils qui sont éloignés les uns des autres sont faiblement associés les uns aux autres. Par exemple, la couleur des cheveux roux est fortement associée à la couleur des yeux bleus, tandis que la couleur des cheveux marron est fortement associée à la couleur des yeux verts."
      ],
      "metadata": {
        "id": "9FkRE3Y-VBQ7"
      }
    }
  ]
}