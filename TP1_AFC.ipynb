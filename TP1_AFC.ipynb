{
  "nbformat": 4,
  "nbformat_minor": 0,
  "metadata": {
    "colab": {
      "provenance": [],
      "toc_visible": true,
      "authorship_tag": "ABX9TyNDlPteMBCY0WE0SfEWlURI",
      "include_colab_link": true
    },
    "kernelspec": {
      "name": "python3",
      "display_name": "Python 3"
    },
    "language_info": {
      "name": "python"
    }
  },
  "cells": [
    {
      "cell_type": "markdown",
      "metadata": {
        "id": "view-in-github",
        "colab_type": "text"
      },
      "source": [
        "<a href=\"https://colab.research.google.com/github/MohammedYassineBen/TP1_AFC/blob/main/TP1_AFC.ipynb\" target=\"_parent\"><img src=\"https://colab.research.google.com/assets/colab-badge.svg\" alt=\"Open In Colab\"/></a>"
      ]
    },
    {
      "cell_type": "code",
      "execution_count": null,
      "metadata": {
        "colab": {
          "base_uri": "https://localhost:8080/"
        },
        "id": "WsosU2kXvVEH",
        "outputId": "cf72d7d1-cba5-4f55-cce1-6b2a38524cff"
      },
      "outputs": [
        {
          "output_type": "stream",
          "name": "stdout",
          "text": [
            "Looking in indexes: https://pypi.org/simple, https://us-python.pkg.dev/colab-wheels/public/simple/\n",
            "Collecting prince\n",
            "  Downloading prince-0.10.2-py3-none-any.whl (414 kB)\n",
            "\u001b[2K     \u001b[90m━━━━━━━━━━━━━━━━━━━━━━━━━━━━━━━━━━━━━━\u001b[0m \u001b[32m414.6/414.6 kB\u001b[0m \u001b[31m10.9 MB/s\u001b[0m eta \u001b[36m0:00:00\u001b[0m\n",
            "\u001b[?25hRequirement already satisfied: altair<5.0.0,>=4.2.2 in /usr/local/lib/python3.9/dist-packages (from prince) (4.2.2)\n",
            "Requirement already satisfied: scikit-learn<2.0.0,>=1.0.2 in /usr/local/lib/python3.9/dist-packages (from prince) (1.2.2)\n",
            "Requirement already satisfied: pandas<3.0.0,>=1.4.1 in /usr/local/lib/python3.9/dist-packages (from prince) (1.5.3)\n",
            "Requirement already satisfied: jinja2 in /usr/local/lib/python3.9/dist-packages (from altair<5.0.0,>=4.2.2->prince) (3.1.2)\n",
            "Requirement already satisfied: entrypoints in /usr/local/lib/python3.9/dist-packages (from altair<5.0.0,>=4.2.2->prince) (0.4)\n",
            "Requirement already satisfied: toolz in /usr/local/lib/python3.9/dist-packages (from altair<5.0.0,>=4.2.2->prince) (0.12.0)\n",
            "Requirement already satisfied: jsonschema>=3.0 in /usr/local/lib/python3.9/dist-packages (from altair<5.0.0,>=4.2.2->prince) (4.3.3)\n",
            "Requirement already satisfied: numpy in /usr/local/lib/python3.9/dist-packages (from altair<5.0.0,>=4.2.2->prince) (1.22.4)\n",
            "Requirement already satisfied: python-dateutil>=2.8.1 in /usr/local/lib/python3.9/dist-packages (from pandas<3.0.0,>=1.4.1->prince) (2.8.2)\n",
            "Requirement already satisfied: pytz>=2020.1 in /usr/local/lib/python3.9/dist-packages (from pandas<3.0.0,>=1.4.1->prince) (2022.7.1)\n",
            "Requirement already satisfied: joblib>=1.1.1 in /usr/local/lib/python3.9/dist-packages (from scikit-learn<2.0.0,>=1.0.2->prince) (1.2.0)\n",
            "Requirement already satisfied: scipy>=1.3.2 in /usr/local/lib/python3.9/dist-packages (from scikit-learn<2.0.0,>=1.0.2->prince) (1.10.1)\n",
            "Requirement already satisfied: threadpoolctl>=2.0.0 in /usr/local/lib/python3.9/dist-packages (from scikit-learn<2.0.0,>=1.0.2->prince) (3.1.0)\n",
            "Requirement already satisfied: pyrsistent!=0.17.0,!=0.17.1,!=0.17.2,>=0.14.0 in /usr/local/lib/python3.9/dist-packages (from jsonschema>=3.0->altair<5.0.0,>=4.2.2->prince) (0.19.3)\n",
            "Requirement already satisfied: attrs>=17.4.0 in /usr/local/lib/python3.9/dist-packages (from jsonschema>=3.0->altair<5.0.0,>=4.2.2->prince) (22.2.0)\n",
            "Requirement already satisfied: six>=1.5 in /usr/local/lib/python3.9/dist-packages (from python-dateutil>=2.8.1->pandas<3.0.0,>=1.4.1->prince) (1.16.0)\n",
            "Requirement already satisfied: MarkupSafe>=2.0 in /usr/local/lib/python3.9/dist-packages (from jinja2->altair<5.0.0,>=4.2.2->prince) (2.1.2)\n",
            "Installing collected packages: prince\n",
            "Successfully installed prince-0.10.2\n"
          ]
        }
      ],
      "source": [
        "!pip install prince\n",
        "import pandas as pd\n",
        "import numpy as np\n",
        "import matplotlib.pyplot as plt\n",
        "from prince import CA\n"
      ]
    },
    {
      "cell_type": "markdown",
      "source": [
        "# **Création du tableau de données**"
      ],
      "metadata": {
        "id": "cOfJt2Hcz-ub"
      }
    },
    {
      "cell_type": "code",
      "source": [
        "data = {'Chatains': [119, 26, 7, 84], 'Roux': [54, 14, 10, 17], 'Blonds': [29, 14, 16, 94]}\n",
        "df = pd.DataFrame(data, index=['Marron', 'Noisette', 'Verts', 'Bleus'])"
      ],
      "metadata": {
        "id": "Y1ehszleyxEM"
      },
      "execution_count": null,
      "outputs": []
    },
    {
      "cell_type": "code",
      "source": [
        "data"
      ],
      "metadata": {
        "colab": {
          "base_uri": "https://localhost:8080/"
        },
        "id": "KgnffeNE2ZGH",
        "outputId": "c2b94c8c-837d-401d-e89d-5bc8026fe5c5"
      },
      "execution_count": null,
      "outputs": [
        {
          "output_type": "execute_result",
          "data": {
            "text/plain": [
              "{'Chatains': [119, 26, 7, 84],\n",
              " 'Roux': [54, 14, 10, 17],\n",
              " 'Blonds': [29, 14, 16, 94]}"
            ]
          },
          "metadata": {},
          "execution_count": 7
        }
      ]
    },
    {
      "cell_type": "markdown",
      "source": [
        "# **L'affichage du data frame:**"
      ],
      "metadata": {
        "id": "nqC2_Q3G3Kb8"
      }
    },
    {
      "cell_type": "code",
      "source": [
        "df\n"
      ],
      "metadata": {
        "colab": {
          "base_uri": "https://localhost:8080/",
          "height": 175
        },
        "id": "tw4d7-UO2_wE",
        "outputId": "84ac5901-f5d9-4f69-d877-39a3a22aeea9"
      },
      "execution_count": null,
      "outputs": [
        {
          "output_type": "execute_result",
          "data": {
            "text/plain": [
              "          Chatains  Roux  Blonds\n",
              "Marron         119    54      29\n",
              "Noisette        26    14      14\n",
              "Verts            7    10      16\n",
              "Bleus           84    17      94"
            ],
            "text/html": [
              "\n",
              "  <div id=\"df-c8e9a172-156a-437d-b6fb-cd60a1d76c7f\">\n",
              "    <div class=\"colab-df-container\">\n",
              "      <div>\n",
              "<style scoped>\n",
              "    .dataframe tbody tr th:only-of-type {\n",
              "        vertical-align: middle;\n",
              "    }\n",
              "\n",
              "    .dataframe tbody tr th {\n",
              "        vertical-align: top;\n",
              "    }\n",
              "\n",
              "    .dataframe thead th {\n",
              "        text-align: right;\n",
              "    }\n",
              "</style>\n",
              "<table border=\"1\" class=\"dataframe\">\n",
              "  <thead>\n",
              "    <tr style=\"text-align: right;\">\n",
              "      <th></th>\n",
              "      <th>Chatains</th>\n",
              "      <th>Roux</th>\n",
              "      <th>Blonds</th>\n",
              "    </tr>\n",
              "  </thead>\n",
              "  <tbody>\n",
              "    <tr>\n",
              "      <th>Marron</th>\n",
              "      <td>119</td>\n",
              "      <td>54</td>\n",
              "      <td>29</td>\n",
              "    </tr>\n",
              "    <tr>\n",
              "      <th>Noisette</th>\n",
              "      <td>26</td>\n",
              "      <td>14</td>\n",
              "      <td>14</td>\n",
              "    </tr>\n",
              "    <tr>\n",
              "      <th>Verts</th>\n",
              "      <td>7</td>\n",
              "      <td>10</td>\n",
              "      <td>16</td>\n",
              "    </tr>\n",
              "    <tr>\n",
              "      <th>Bleus</th>\n",
              "      <td>84</td>\n",
              "      <td>17</td>\n",
              "      <td>94</td>\n",
              "    </tr>\n",
              "  </tbody>\n",
              "</table>\n",
              "</div>\n",
              "      <button class=\"colab-df-convert\" onclick=\"convertToInteractive('df-c8e9a172-156a-437d-b6fb-cd60a1d76c7f')\"\n",
              "              title=\"Convert this dataframe to an interactive table.\"\n",
              "              style=\"display:none;\">\n",
              "        \n",
              "  <svg xmlns=\"http://www.w3.org/2000/svg\" height=\"24px\"viewBox=\"0 0 24 24\"\n",
              "       width=\"24px\">\n",
              "    <path d=\"M0 0h24v24H0V0z\" fill=\"none\"/>\n",
              "    <path d=\"M18.56 5.44l.94 2.06.94-2.06 2.06-.94-2.06-.94-.94-2.06-.94 2.06-2.06.94zm-11 1L8.5 8.5l.94-2.06 2.06-.94-2.06-.94L8.5 2.5l-.94 2.06-2.06.94zm10 10l.94 2.06.94-2.06 2.06-.94-2.06-.94-.94-2.06-.94 2.06-2.06.94z\"/><path d=\"M17.41 7.96l-1.37-1.37c-.4-.4-.92-.59-1.43-.59-.52 0-1.04.2-1.43.59L10.3 9.45l-7.72 7.72c-.78.78-.78 2.05 0 2.83L4 21.41c.39.39.9.59 1.41.59.51 0 1.02-.2 1.41-.59l7.78-7.78 2.81-2.81c.8-.78.8-2.07 0-2.86zM5.41 20L4 18.59l7.72-7.72 1.47 1.35L5.41 20z\"/>\n",
              "  </svg>\n",
              "      </button>\n",
              "      \n",
              "  <style>\n",
              "    .colab-df-container {\n",
              "      display:flex;\n",
              "      flex-wrap:wrap;\n",
              "      gap: 12px;\n",
              "    }\n",
              "\n",
              "    .colab-df-convert {\n",
              "      background-color: #E8F0FE;\n",
              "      border: none;\n",
              "      border-radius: 50%;\n",
              "      cursor: pointer;\n",
              "      display: none;\n",
              "      fill: #1967D2;\n",
              "      height: 32px;\n",
              "      padding: 0 0 0 0;\n",
              "      width: 32px;\n",
              "    }\n",
              "\n",
              "    .colab-df-convert:hover {\n",
              "      background-color: #E2EBFA;\n",
              "      box-shadow: 0px 1px 2px rgba(60, 64, 67, 0.3), 0px 1px 3px 1px rgba(60, 64, 67, 0.15);\n",
              "      fill: #174EA6;\n",
              "    }\n",
              "\n",
              "    [theme=dark] .colab-df-convert {\n",
              "      background-color: #3B4455;\n",
              "      fill: #D2E3FC;\n",
              "    }\n",
              "\n",
              "    [theme=dark] .colab-df-convert:hover {\n",
              "      background-color: #434B5C;\n",
              "      box-shadow: 0px 1px 3px 1px rgba(0, 0, 0, 0.15);\n",
              "      filter: drop-shadow(0px 1px 2px rgba(0, 0, 0, 0.3));\n",
              "      fill: #FFFFFF;\n",
              "    }\n",
              "  </style>\n",
              "\n",
              "      <script>\n",
              "        const buttonEl =\n",
              "          document.querySelector('#df-c8e9a172-156a-437d-b6fb-cd60a1d76c7f button.colab-df-convert');\n",
              "        buttonEl.style.display =\n",
              "          google.colab.kernel.accessAllowed ? 'block' : 'none';\n",
              "\n",
              "        async function convertToInteractive(key) {\n",
              "          const element = document.querySelector('#df-c8e9a172-156a-437d-b6fb-cd60a1d76c7f');\n",
              "          const dataTable =\n",
              "            await google.colab.kernel.invokeFunction('convertToInteractive',\n",
              "                                                     [key], {});\n",
              "          if (!dataTable) return;\n",
              "\n",
              "          const docLinkHtml = 'Like what you see? Visit the ' +\n",
              "            '<a target=\"_blank\" href=https://colab.research.google.com/notebooks/data_table.ipynb>data table notebook</a>'\n",
              "            + ' to learn more about interactive tables.';\n",
              "          element.innerHTML = '';\n",
              "          dataTable['output_type'] = 'display_data';\n",
              "          await google.colab.output.renderOutput(dataTable, element);\n",
              "          const docLink = document.createElement('div');\n",
              "          docLink.innerHTML = docLinkHtml;\n",
              "          element.appendChild(docLink);\n",
              "        }\n",
              "      </script>\n",
              "    </div>\n",
              "  </div>\n",
              "  "
            ]
          },
          "metadata": {},
          "execution_count": 6
        }
      ]
    },
    {
      "cell_type": "markdown",
      "source": [
        "# **Création d'un objet d'Analyse Factorielle des Correspondances (AFC)**"
      ],
      "metadata": {
        "id": "f88KBsH30VOj"
      }
    },
    {
      "cell_type": "code",
      "source": [
        "ca = CA(n_components=2)"
      ],
      "metadata": {
        "id": "uisHwnMU0N73"
      },
      "execution_count": null,
      "outputs": []
    },
    {
      "cell_type": "markdown",
      "source": [
        "# **Ajustement de l'AFC aux données**"
      ],
      "metadata": {
        "id": "92Oo6uyG05OY"
      }
    },
    {
      "cell_type": "code",
      "source": [
        " \n",
        "ca.fit(df)\n"
      ],
      "metadata": {
        "colab": {
          "base_uri": "https://localhost:8080/"
        },
        "id": "gpOC0Tvu0xuN",
        "outputId": "4fcc72fd-e4f1-4c72-e59d-c277e1f2fa2b"
      },
      "execution_count": null,
      "outputs": [
        {
          "output_type": "execute_result",
          "data": {
            "text/plain": [
              "<prince.ca.CA at 0x7f4c3f049be0>"
            ]
          },
          "metadata": {},
          "execution_count": 10
        }
      ]
    },
    {
      "cell_type": "markdown",
      "source": [
        "# **Obtention des valeurs propres**"
      ],
      "metadata": {
        "id": "-grKEuXY1KaW"
      }
    },
    {
      "cell_type": "code",
      "source": [
        "\n",
        "eigenvalues = ca.eigenvalues_"
      ],
      "metadata": {
        "id": "l45P4ry00xnK"
      },
      "execution_count": null,
      "outputs": []
    },
    {
      "cell_type": "markdown",
      "source": [
        "# **Obtention des vecteurs propres**\n"
      ],
      "metadata": {
        "id": "A8Ms3ehc1b0X"
      }
    },
    {
      "cell_type": "code",
      "source": [
        "\n",
        "eigenvectors = ca.row_coordinates(df)\n",
        "\n"
      ],
      "metadata": {
        "id": "NCtIuJtM0xPA"
      },
      "execution_count": null,
      "outputs": []
    },
    {
      "cell_type": "code",
      "source": [
        "print(\"Valeurs propres : \", eigenvalues)\n"
      ],
      "metadata": {
        "colab": {
          "base_uri": "https://localhost:8080/"
        },
        "id": "pp2bXSjb0ws-",
        "outputId": "6aaf9113-2293-42c2-acfd-c1116ba57e7e"
      },
      "execution_count": null,
      "outputs": [
        {
          "output_type": "stream",
          "name": "stdout",
          "text": [
            "Valeurs propres :  [0.12522026 0.01995054]\n"
          ]
        }
      ]
    },
    {
      "cell_type": "code",
      "source": [
        "print(\"Vecteurs propres : \", eigenvectors) \n"
      ],
      "metadata": {
        "colab": {
          "base_uri": "https://localhost:8080/"
        },
        "id": "Ga8A9Lbo0wlh",
        "outputId": "e52a3347-d24a-40f5-9eeb-4af275507ce0"
      },
      "execution_count": null,
      "outputs": [
        {
          "output_type": "stream",
          "name": "stdout",
          "text": [
            "Vecteurs propres :                   0         1\n",
            "Marron   -0.374261 -0.031020\n",
            "Noisette -0.148102  0.092606\n",
            "Verts     0.255610  0.488287\n",
            "Bleus     0.385451 -0.076145\n"
          ]
        }
      ]
    },
    {
      "cell_type": "markdown",
      "source": [
        "# **Obtention des deux premières composantes principales**"
      ],
      "metadata": {
        "id": "IceKLxrI4mti"
      }
    },
    {
      "cell_type": "code",
      "source": [
        "coordinates = ca.row_coordinates(df)"
      ],
      "metadata": {
        "id": "PHgCTVCw0weQ"
      },
      "execution_count": null,
      "outputs": []
    },
    {
      "cell_type": "code",
      "source": [
        "print(\"Coordonnées des deux premières composantes principales : \")\n",
        "print(coordinates)\n",
        "\n"
      ],
      "metadata": {
        "colab": {
          "base_uri": "https://localhost:8080/"
        },
        "id": "fFfiwHsF6Qyx",
        "outputId": "4d7a0de0-4e2c-4fe4-82b9-194596cde12f"
      },
      "execution_count": null,
      "outputs": [
        {
          "output_type": "stream",
          "name": "stdout",
          "text": [
            "Coordonnées des deux premières composantes principales : \n",
            "                 0         1\n",
            "Marron   -0.374261 -0.031020\n",
            "Noisette -0.148102  0.092606\n",
            "Verts     0.255610  0.488287\n",
            "Bleus     0.385451 -0.076145\n"
          ]
        }
      ]
    },
    {
      "cell_type": "code",
      "source": [],
      "metadata": {
        "id": "bo_nP0ic6SeD"
      },
      "execution_count": null,
      "outputs": []
    },
    {
      "cell_type": "markdown",
      "source": [
        "# **Affichage du graphique de projection des deux premières composantes principales :**"
      ],
      "metadata": {
        "id": "9GNoUWGdraMs"
      }
    },
    {
      "cell_type": "code",
      "source": [
        "# Affichage du graphique de projection des deux premières composantes principales\n",
        "plt.scatter(coordinates.iloc[:, 0], coordinates.iloc[:, 1])\n",
        "plt.xlabel('Composante principale 1')\n",
        "plt.ylabel('Composante principale 2')\n",
        "plt.title('Projection des deux premières composantes principales')\n",
        "plt.show()"
      ],
      "metadata": {
        "colab": {
          "base_uri": "https://localhost:8080/",
          "height": 472
        },
        "id": "Emw7Ge-_6JP9",
        "outputId": "665eda37-f679-4e77-bf5e-a80cb6c89528"
      },
      "execution_count": null,
      "outputs": [
        {
          "output_type": "display_data",
          "data": {
            "text/plain": [
              "<Figure size 640x480 with 1 Axes>"
            ],
            "image/png": "[encoded data removed]"
          },
          "metadata": {}
        }
      ]
    }
  ]
}